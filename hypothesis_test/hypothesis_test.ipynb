{
 "cells": [
  {
   "cell_type": "markdown",
   "metadata": {},
   "source": [
    "# Examen final Probabilidad y Estadística para Inteligencia Artificial\n",
    "\n",
    "Siguiendo con la historia de Don Francisco, con el tiempo y gracias a los análisis de Matı́as, el pequeño comerciante de\n",
    "barrio cuenta hoy con 5 supermercados: ’Santa Ana’, ’La Floresta’, ’Los Cedros’, ’Palermo’ y ’Córdoba’.\n",
    "También Matı́as ha avanzado en la Especialización en Inteligencia Artificial. Un dı́a Don Francisco le plantea algunas\n",
    "inquietudes adicionales:\n",
    "1. Don Francisco quiere entender mejor las ventas por mes del supermercado ’Santa Ana’.\n",
    "2. Más aún, Don Francisco no sabe si puede estar seguro de que las ventas son las mismas en todos los supermercados o si\n",
    "hay alguno que se comporte mejor que los demás, y si alguna de las tiendas necesita más atención porque sus ventas sean\n",
    "peores que las de las otras.\n",
    "3. Don Francisco tiene 5 clientes a los que les ha vendido mercancı́as a crédito y, de ellos, 1 están en mora con el pago prometido.\n",
    "Matı́as, teniendo en cuenta la información disponible, considera que puede modelar el porcentaje p de morosidad según una\n",
    "distribución B(1, 2). Para determinar los parámetros α y β, decide usar inferencia bayesiana. Con esto, pretende explicarle\n",
    "a Don Francisco, cómo será el comportamiento de pago de sus clientes a crédito."
   ]
  },
  {
   "cell_type": "code",
   "execution_count": 22,
   "metadata": {},
   "outputs": [
    {
     "data": {
      "text/html": [
       "<div>\n",
       "<style scoped>\n",
       "    .dataframe tbody tr th:only-of-type {\n",
       "        vertical-align: middle;\n",
       "    }\n",
       "\n",
       "    .dataframe tbody tr th {\n",
       "        vertical-align: top;\n",
       "    }\n",
       "\n",
       "    .dataframe thead th {\n",
       "        text-align: right;\n",
       "    }\n",
       "</style>\n",
       "<table border=\"1\" class=\"dataframe\">\n",
       "  <thead>\n",
       "    <tr style=\"text-align: right;\">\n",
       "      <th></th>\n",
       "      <th>Ventas Santa Ana</th>\n",
       "      <th>Ventas Cordoba</th>\n",
       "      <th>Ventas La Floresta</th>\n",
       "      <th>Ventas Los Cedros</th>\n",
       "      <th>Ventas Palermo</th>\n",
       "    </tr>\n",
       "    <tr>\n",
       "      <th>Fecha</th>\n",
       "      <th></th>\n",
       "      <th></th>\n",
       "      <th></th>\n",
       "      <th></th>\n",
       "      <th></th>\n",
       "    </tr>\n",
       "  </thead>\n",
       "  <tbody>\n",
       "    <tr>\n",
       "      <th>2023-01-01</th>\n",
       "      <td>13915.65363</td>\n",
       "      <td>9436.599034</td>\n",
       "      <td>14528.04302</td>\n",
       "      <td>10039.64150</td>\n",
       "      <td>15363.29967</td>\n",
       "    </tr>\n",
       "    <tr>\n",
       "      <th>2023-01-02</th>\n",
       "      <td>16713.74951</td>\n",
       "      <td>15154.679380</td>\n",
       "      <td>15616.72012</td>\n",
       "      <td>14284.06338</td>\n",
       "      <td>14631.65363</td>\n",
       "    </tr>\n",
       "    <tr>\n",
       "      <th>2023-01-03</th>\n",
       "      <td>17415.85259</td>\n",
       "      <td>15532.275600</td>\n",
       "      <td>22447.34418</td>\n",
       "      <td>10592.77961</td>\n",
       "      <td>17576.45150</td>\n",
       "    </tr>\n",
       "    <tr>\n",
       "      <th>2023-01-04</th>\n",
       "      <td>19494.02393</td>\n",
       "      <td>14599.198780</td>\n",
       "      <td>20440.80662</td>\n",
       "      <td>15332.96389</td>\n",
       "      <td>17158.66839</td>\n",
       "    </tr>\n",
       "    <tr>\n",
       "      <th>2023-01-05</th>\n",
       "      <td>22818.79946</td>\n",
       "      <td>20701.013190</td>\n",
       "      <td>21053.45924</td>\n",
       "      <td>15360.58419</td>\n",
       "      <td>15260.22582</td>\n",
       "    </tr>\n",
       "  </tbody>\n",
       "</table>\n",
       "</div>"
      ],
      "text/plain": [
       "            Ventas Santa Ana  Ventas Cordoba  Ventas La Floresta  \\\n",
       "Fecha                                                              \n",
       "2023-01-01       13915.65363     9436.599034         14528.04302   \n",
       "2023-01-02       16713.74951    15154.679380         15616.72012   \n",
       "2023-01-03       17415.85259    15532.275600         22447.34418   \n",
       "2023-01-04       19494.02393    14599.198780         20440.80662   \n",
       "2023-01-05       22818.79946    20701.013190         21053.45924   \n",
       "\n",
       "            Ventas Los Cedros  Ventas Palermo  \n",
       "Fecha                                          \n",
       "2023-01-01        10039.64150     15363.29967  \n",
       "2023-01-02        14284.06338     14631.65363  \n",
       "2023-01-03        10592.77961     17576.45150  \n",
       "2023-01-04        15332.96389     17158.66839  \n",
       "2023-01-05        15360.58419     15260.22582  "
      ]
     },
     "execution_count": 22,
     "metadata": {},
     "output_type": "execute_result"
    }
   ],
   "source": [
    "import pandas as pd\n",
    "\n",
    "data_dict = {\n",
    "    \"Santa Ana\": \"Datos_examen_final_17Co2024_Grupo9.xlsx - Santa Ana.csv\",\n",
    "    \"Cordoba\": \"supermercado_cordoba.xlsx - corboda.csv\",\n",
    "    \"La Floresta\": \"supermercado_la_floresta.xlsx - la_floresta.csv\",\n",
    "    \"Los Cedros\": \"supermercado_los_cedros.xlsx - los_cedros.csv\",\n",
    "    \"Palermo\": \"supermercado_palermo.xlsx - palermo.csv\"\n",
    "}\n",
    "\n",
    "df_lst = []\n",
    "for name, path in data_dict.items():\n",
    "    df = pd.read_csv(path)\n",
    "    if name != \"Santa Ana\":\n",
    "        df[\"Ventas\"] = pd.to_numeric(df[\"Ventas\"].str.replace(\",\", \".\"))\n",
    "        df[\"Fecha\"] = pd.to_datetime(df[\"Fecha\"], format=\"%d/%m/%Y\")\n",
    "    else:\n",
    "        df[\"Fecha\"] = pd.to_datetime(df[\"Fecha\"], format=\"%m/%d/%Y\")\n",
    "    df.rename(columns={\"Ventas\": \"Ventas \" + name}, inplace=True)\n",
    "    df.set_index(\"Fecha\", inplace=True)\n",
    "    df_lst.append(df)\n",
    "df = pd.concat(df_lst, axis=1)\n",
    "df.head()"
   ]
  },
  {
   "cell_type": "markdown",
   "metadata": {},
   "source": [
    "1. Determinen intervalos de confianza empı́ricos para el supermercado ’Santa Ana’ en cada mes, para signifi-\n",
    "cancias del 95 % y el 99 %."
   ]
  },
  {
   "cell_type": "code",
   "execution_count": 47,
   "metadata": {},
   "outputs": [
    {
     "ename": "TypeError",
     "evalue": "distplot() got an unexpected keyword argument 'data'",
     "output_type": "error",
     "traceback": [
      "\u001b[0;31m---------------------------------------------------------------------------\u001b[0m",
      "\u001b[0;31mTypeError\u001b[0m                                 Traceback (most recent call last)",
      "Cell \u001b[0;32mIn[47], line 28\u001b[0m\n\u001b[1;32m     26\u001b[0m ci_empiric[\u001b[38;5;124m\"\u001b[39m\u001b[38;5;124m95\u001b[39m\u001b[38;5;124m%\u001b[39m\u001b[38;5;124m\"\u001b[39m]\u001b[38;5;241m.\u001b[39mappend((month_mean \u001b[38;5;241m-\u001b[39m \u001b[38;5;241m2\u001b[39m\u001b[38;5;241m*\u001b[39mmonth_std, month_mean \u001b[38;5;241m+\u001b[39m \u001b[38;5;241m2\u001b[39m\u001b[38;5;241m*\u001b[39mmonth_std))\n\u001b[1;32m     27\u001b[0m ci_empiric[\u001b[38;5;124m\"\u001b[39m\u001b[38;5;124m99.7\u001b[39m\u001b[38;5;124m%\u001b[39m\u001b[38;5;124m\"\u001b[39m]\u001b[38;5;241m.\u001b[39mappend((month_mean \u001b[38;5;241m-\u001b[39m \u001b[38;5;241m3\u001b[39m\u001b[38;5;241m*\u001b[39mmonth_std, month_mean \u001b[38;5;241m+\u001b[39m \u001b[38;5;241m3\u001b[39m\u001b[38;5;241m*\u001b[39mmonth_std))\n\u001b[0;32m---> 28\u001b[0m \u001b[43msns\u001b[49m\u001b[38;5;241;43m.\u001b[39;49m\u001b[43mdistplot\u001b[49m\u001b[43m(\u001b[49m\u001b[43mdata\u001b[49m\u001b[38;5;241;43m=\u001b[39;49m\u001b[43mmonth_data\u001b[49m\u001b[43m,\u001b[49m\u001b[43m \u001b[49m\u001b[43max\u001b[49m\u001b[38;5;241;43m=\u001b[39;49m\u001b[43maxs\u001b[49m\u001b[43m[\u001b[49m\u001b[43mi\u001b[49m\u001b[43m]\u001b[49m\u001b[43m)\u001b[49m\n\u001b[1;32m     29\u001b[0m axs[i]\u001b[38;5;241m.\u001b[39mset_xlabel(\u001b[38;5;124m\"\u001b[39m\u001b[38;5;124mHistograma \u001b[39m\u001b[38;5;124m\"\u001b[39m \u001b[38;5;241m+\u001b[39m calendar\u001b[38;5;241m.\u001b[39mmonth_name[i\u001b[38;5;241m+\u001b[39m\u001b[38;5;241m1\u001b[39m])\n\u001b[1;32m     30\u001b[0m df_by_month\u001b[38;5;241m.\u001b[39mappend(month_data)\n",
      "\u001b[0;31mTypeError\u001b[0m: distplot() got an unexpected keyword argument 'data'"
     ]
    },
    {
     "data": {
      "image/png": "[encoded data removed]",
      "text/plain": [
       "<Figure size 640x480 with 12 Axes>"
      ]
     },
     "metadata": {},
     "output_type": "display_data"
    }
   ],
   "source": [
    "import calendar\n",
    "import seaborn as sns\n",
    "import matplotlib.pyplot as plt\n",
    "\n",
    "NUMBER_OF_MONTHS = 12\n",
    "\n",
    "ci_empiric = {\n",
    "    \"month\": [],\n",
    "    \"mean\": [],\n",
    "    \"std_dev\": [],\n",
    "    \"95%\": [],\n",
    "    \"99.7%\": []\n",
    "}\n",
    "\n",
    "df_by_month = []\n",
    "df_santa_ana = df[\"Ventas Santa Ana\"]\n",
    "\n",
    "fig, axs = plt.subplots(nrows=1, ncols=NUMBER_OF_MONTHS)\n",
    "for i in range(NUMBER_OF_MONTHS):\n",
    "    month_data = df_santa_ana.iloc[df_santa_ana.index.month == i+1]\n",
    "    ci_empiric[\"month\"].append(calendar.month_name[i+1])\n",
    "    month_mean = month_data.mean()\n",
    "    month_std = month_data.std()\n",
    "    ci_empiric[\"mean\"].append(month_mean)\n",
    "    ci_empiric[\"std_dev\"].append(month_std)\n",
    "    ci_empiric[\"95%\"].append((month_mean - 2*month_std, month_mean + 2*month_std))\n",
    "    ci_empiric[\"99.7%\"].append((month_mean - 3*month_std, month_mean + 3*month_std))\n",
    "    sns.kdeplot(data=month_data, ax=axs[i])\n",
    "    axs[i].set_xlabel(\"Histograma \" + calendar.month_name[i+1])\n",
    "    df_by_month.append(month_data)\n",
    "\n",
    "ci_empiric_df = pd.DataFrame.from_dict(ci_empiric)\n",
    "display(ci_empiric_df)\n",
    "fig.set_size_inches(40, 5)"
   ]
  },
  {
   "cell_type": "markdown",
   "metadata": {},
   "source": [
    "2. Realicen pruebas ANOVA para determinar si las ventas esperadas de todas las tiendas son iguales o no,\n",
    "con significancia del 95"
   ]
  },
  {
   "cell_type": "code",
   "execution_count": 25,
   "metadata": {},
   "outputs": [
    {
     "data": {
      "text/plain": [
       "F_onewayResult(statistic=np.float64(12.05163033219513), pvalue=np.float64(2.9749262098506266e-19))"
      ]
     },
     "execution_count": 25,
     "metadata": {},
     "output_type": "execute_result"
    }
   ],
   "source": [
    "from scipy import stats\n",
    "\n",
    "stats.f_oneway(*df_by_month)"
   ]
  },
  {
   "cell_type": "markdown",
   "metadata": {},
   "source": [
    "3. Identifiquen la tienda con mayor promedio de ventas y la tienda con menor promedio de ventas y realicen\n",
    "una prueba de hipótesis para determinar si la diferencia entre ellas es distinta de cero o no."
   ]
  },
  {
   "cell_type": "code",
   "execution_count": 42,
   "metadata": {},
   "outputs": [
    {
     "data": {
      "text/html": [
       "<div>\n",
       "<style scoped>\n",
       "    .dataframe tbody tr th:only-of-type {\n",
       "        vertical-align: middle;\n",
       "    }\n",
       "\n",
       "    .dataframe tbody tr th {\n",
       "        vertical-align: top;\n",
       "    }\n",
       "\n",
       "    .dataframe thead th {\n",
       "        text-align: right;\n",
       "    }\n",
       "</style>\n",
       "<table border=\"1\" class=\"dataframe\">\n",
       "  <thead>\n",
       "    <tr style=\"text-align: right;\">\n",
       "      <th></th>\n",
       "      <th>Ventas Santa Ana</th>\n",
       "      <th>Ventas Cordoba</th>\n",
       "      <th>Ventas La Floresta</th>\n",
       "      <th>Ventas Los Cedros</th>\n",
       "      <th>Ventas Palermo</th>\n",
       "    </tr>\n",
       "  </thead>\n",
       "  <tbody>\n",
       "    <tr>\n",
       "      <th>count</th>\n",
       "      <td>365.000000</td>\n",
       "      <td>365.000000</td>\n",
       "      <td>365.000000</td>\n",
       "      <td>365.000000</td>\n",
       "      <td>365.000000</td>\n",
       "    </tr>\n",
       "    <tr>\n",
       "      <th>mean</th>\n",
       "      <td>20990.659056</td>\n",
       "      <td>17900.271075</td>\n",
       "      <td>21713.716026</td>\n",
       "      <td>18068.391082</td>\n",
       "      <td>20787.278462</td>\n",
       "    </tr>\n",
       "    <tr>\n",
       "      <th>std</th>\n",
       "      <td>3080.749475</td>\n",
       "      <td>2989.198032</td>\n",
       "      <td>3063.659636</td>\n",
       "      <td>3068.290166</td>\n",
       "      <td>2908.004697</td>\n",
       "    </tr>\n",
       "    <tr>\n",
       "      <th>min</th>\n",
       "      <td>11333.434400</td>\n",
       "      <td>9436.599034</td>\n",
       "      <td>12494.913740</td>\n",
       "      <td>10039.641500</td>\n",
       "      <td>11439.713420</td>\n",
       "    </tr>\n",
       "    <tr>\n",
       "      <th>25%</th>\n",
       "      <td>18759.655090</td>\n",
       "      <td>15935.841870</td>\n",
       "      <td>19667.310080</td>\n",
       "      <td>15862.198550</td>\n",
       "      <td>18908.726290</td>\n",
       "    </tr>\n",
       "    <tr>\n",
       "      <th>50%</th>\n",
       "      <td>21248.570810</td>\n",
       "      <td>18126.591290</td>\n",
       "      <td>22016.190500</td>\n",
       "      <td>18141.253410</td>\n",
       "      <td>20952.996530</td>\n",
       "    </tr>\n",
       "    <tr>\n",
       "      <th>75%</th>\n",
       "      <td>23010.314330</td>\n",
       "      <td>20085.310130</td>\n",
       "      <td>23748.501730</td>\n",
       "      <td>20342.445370</td>\n",
       "      <td>22908.781810</td>\n",
       "    </tr>\n",
       "    <tr>\n",
       "      <th>max</th>\n",
       "      <td>28860.143320</td>\n",
       "      <td>24259.714110</td>\n",
       "      <td>28467.553380</td>\n",
       "      <td>25496.299150</td>\n",
       "      <td>28256.625700</td>\n",
       "    </tr>\n",
       "  </tbody>\n",
       "</table>\n",
       "</div>"
      ],
      "text/plain": [
       "       Ventas Santa Ana  Ventas Cordoba  Ventas La Floresta  \\\n",
       "count        365.000000      365.000000          365.000000   \n",
       "mean       20990.659056    17900.271075        21713.716026   \n",
       "std         3080.749475     2989.198032         3063.659636   \n",
       "min        11333.434400     9436.599034        12494.913740   \n",
       "25%        18759.655090    15935.841870        19667.310080   \n",
       "50%        21248.570810    18126.591290        22016.190500   \n",
       "75%        23010.314330    20085.310130        23748.501730   \n",
       "max        28860.143320    24259.714110        28467.553380   \n",
       "\n",
       "       Ventas Los Cedros  Ventas Palermo  \n",
       "count         365.000000      365.000000  \n",
       "mean        18068.391082    20787.278462  \n",
       "std          3068.290166     2908.004697  \n",
       "min         10039.641500    11439.713420  \n",
       "25%         15862.198550    18908.726290  \n",
       "50%         18141.253410    20952.996530  \n",
       "75%         20342.445370    22908.781810  \n",
       "max         25496.299150    28256.625700  "
      ]
     },
     "execution_count": 42,
     "metadata": {},
     "output_type": "execute_result"
    }
   ],
   "source": [
    "df.describe()"
   ]
  },
  {
   "cell_type": "code",
   "execution_count": 45,
   "metadata": {},
   "outputs": [
    {
     "name": "stdout",
     "output_type": "stream",
     "text": [
      "Max. sales: Ventas La Floresta\n",
      "Min. sales: Ventas Cordoba\n",
      "TtestResult(statistic=np.float64(-0.6427218874234027), pvalue=np.float64(0.5206066629642504), df=np.int64(729))\n",
      "La media de las muestras se desvía -0.6427218874234027 de la hipotesis nula.\n"
     ]
    }
   ],
   "source": [
    "import numpy as np\n",
    "from scipy import stats\n",
    "\n",
    "mean_sales = df.mean()\n",
    "max_sales = mean_sales.idxmax()\n",
    "min_sales = mean_sales.idxmin()\n",
    "print(\"Max. sales:\", max_sales)\n",
    "print(\"Min. sales:\", min_sales)\n",
    "\n",
    "max_min_mean_sales = np.concatenate((df[max_sales].to_numpy(), df[min_sales].to_numpy()))\n",
    "\n",
    "res = stats.ttest_1samp(max_min_mean_sales, df.mean(axis=None))\n",
    "print(res)\n",
    "print(\"La media de las muestras se desvía\",  res.statistic, \"de la hipotesis nula.\")"
   ]
  }
 ],
 "metadata": {
  "kernelspec": {
   "display_name": ".venv",
   "language": "python",
   "name": "python3"
  },
  "language_info": {
   "codemirror_mode": {
    "name": "ipython",
    "version": 3
   },
   "file_extension": ".py",
   "mimetype": "text/x-python",
   "name": "python",
   "nbconvert_exporter": "python",
   "pygments_lexer": "ipython3",
   "version": "3.12.4"
  }
 },
 "nbformat": 4,
 "nbformat_minor": 2
}
